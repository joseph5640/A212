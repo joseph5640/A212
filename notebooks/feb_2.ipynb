{
 "cells": [
  {
   "cell_type": "code",
   "execution_count": 2,
   "metadata": {
    "collapsed": true
   },
   "outputs": [],
   "source": [
    "import numpy as np\n",
    "import calendar"
   ]
  },
  {
   "cell_type": "code",
   "execution_count": null,
   "metadata": {
    "collapsed": true
   },
   "outputs": [],
   "source": [
    "#test:   balance 118.39, day 17, monthlength 30, daily 8.46\n",
    "balance=input('How much money (in dollars) in your lunch account? ')\n",
    "day=input('What day of the month is today? ')\n",
    "monthlength=input('How many days in this month? ')\n",
    "balance,day,monthlength = [float(item) for item in (balance,day,monthlength)]\n",
    "remaining = monthlength -day + 1\n",
    "daily = balance/remaining\n",
    "text='You can spend ${:4.2f} each day for the rest of the month.'.format(daily)\n",
    "print(text)\n",
    "text = ('aaaa' 'bbbb')\n",
    "print(text)\n"
   ]
  },
  {
   "cell_type": "code",
   "execution_count": null,
   "metadata": {
    "collapsed": true
   },
   "outputs": [],
   "source": []
  },
  {
   "cell_type": "code",
   "execution_count": 6,
   "metadata": {
    "collapsed": false
   },
   "outputs": [
    {
     "name": "stdout",
     "output_type": "stream",
     "text": [
      "How much money (in dollars) in your lunch account? 118.39\n",
      "What day of the month is today? 17\n",
      "How many days in this month? 30\n",
      "You can spend $8.46 each day for the rest of the month.\n"
     ]
    }
   ],
   "source": []
  },
  {
   "cell_type": "code",
   "execution_count": 6,
   "metadata": {
    "collapsed": false
   },
   "outputs": [
    {
     "name": "stdout",
     "output_type": "stream",
     "text": [
      "{1: 31, 2: 28, 3: 31, 4: 30, 5: 31, 6: 30, 7: 31, 8: 31, 9: 30, 10: 31, 11: 30, 12: 31}\n",
      "How much money (in dollars) in your lunch account? \n",
      "What day of the month is today? \n",
      "What is the month number (Jan=1,Dec=12) \n",
      "didn't understand input, using defaults\n",
      "You can spend $9.87 each day for the rest of the month.\n"
     ]
    }
   ],
   "source": [
    "#Optional: make a dictionary holding the length of the month for 2016\n",
    "\n",
    "monthdict = {}\n",
    "for month in np.arange(1,13):\n",
    "    startday,length =calendar.monthrange(2016,month)\n",
    "    monthdict[month] = length\n",
    "print(monthdict)\n",
    "\n",
    "#test:   balance 118.39, day 17, month=2 , daily 9.87\n",
    "\n",
    "balance=input('How much money (in dollars) in your lunch account? ')\n",
    "day=input('What day of the month is today? ')\n",
    "monthnum=input('What is the month number (Jan=1,Dec=12) ')\n",
    "try:\n",
    "    balance,day,monthnum = [float(item) for item in (balance,day,monthnum)]\n",
    "except:\n",
    "    print(\"didn't understand input, using defaults\")\n",
    "    balance=118.39\n",
    "    day=17\n",
    "    monthnum=2\n",
    "monthlength=monthdict[monthnum]\n",
    "remaining = monthlength -day + 1\n",
    "daily = balance/remaining\n",
    "text='You can spend ${:4.2f} each day for the rest of the month.'.format(daily)\n",
    "print(text)\n"
   ]
  },
  {
   "cell_type": "code",
   "execution_count": 1,
   "metadata": {
    "collapsed": false
   },
   "outputs": [],
   "source": [
    "the_data =\\\n",
    "    \"\"\"\n",
    "        Date: 2013-09-16\n",
    "        Data taken by Liam and Selena\n",
    "        frequency (Hz) amplitude (mm)  amp error (mm)\n",
    "          0.7500        13.52         0.32\n",
    "          1.7885        12.11         0.92\n",
    "          2.8269        14.27         0.73\n",
    "          3.8654        16.60         2.06\n",
    "          4.9038        22.91         1.75\n",
    "          5.9423        35.28         0.91\n",
    "          6.9808        60.99         0.99\n",
    "          8.0192        33.38         0.36\n",
    "          9.0577        17.78         2.32\n",
    "         10.0962        10.99         0.21\n",
    "         11.1346         7.47         0.48\n",
    "         12.1731         6.72         0.51\n",
    "         13.2115         4.40         0.58\n",
    "         14.2500         4.07         0.63\n",
    "    \"\"\"\n",
    "filename = 'freq_data.txt'\n",
    "the_data = the_data.strip()\n",
    "with open(filename,'w') as f:\n",
    "    f.write(the_data)\n"
   ]
  },
  {
   "cell_type": "code",
   "execution_count": 17,
   "metadata": {
    "collapsed": false,
    "scrolled": true
   },
   "outputs": [
    {
     "name": "stdout",
     "output_type": "stream",
     "text": [
      "f= \n",
      "[  0.75     1.7885   2.8269   3.8654   4.9038   5.9423   6.9808   8.0192\n",
      "   9.0577  10.0962  11.1346  12.1731  13.2115  14.25  ]\n",
      "a= \n",
      "[ 13.52  12.11  14.27  16.6   22.91  35.28  60.99  33.38  17.78  10.99\n",
      "   7.47   6.72   4.4    4.07]\n",
      "da= \n",
      "[ 0.32  0.92  0.73  2.06  1.75  0.91  0.99  0.36  2.32  0.21  0.48  0.51\n",
      "  0.58  0.63]\n"
     ]
    }
   ],
   "source": [
    "f,a,da =np.loadtxt(filename,skiprows=3,unpack=True)\n",
    "print('f= \\n{}'.format(f))\n",
    "print('a= \\n{}'.format(a))\n",
    "print('da= \\n{}'.format(da))"
   ]
  },
  {
   "cell_type": "code",
   "execution_count": null,
   "metadata": {
    "collapsed": true
   },
   "outputs": [],
   "source": [
    "out("
   ]
  }
 ],
 "metadata": {
  "kernelspec": {
   "display_name": "Python 3",
   "language": "python",
   "name": "python3"
  },
  "language_info": {
   "codemirror_mode": {
    "name": "ipython",
    "version": 3
   },
   "file_extension": ".py",
   "mimetype": "text/x-python",
   "name": "python",
   "nbconvert_exporter": "python",
   "pygments_lexer": "ipython3",
   "version": "3.5.1"
  }
 },
 "nbformat": 4,
 "nbformat_minor": 0
}
